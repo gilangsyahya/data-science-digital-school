{
 "cells": [
  {
   "cell_type": "markdown",
   "metadata": {},
   "source": [
    "1. Buatlah 3 variabel yang masing-masing berisi\n",
    "    \n",
    "    a. Nama depan (string)\n",
    "    \n",
    "    b. Umur (integer)\n",
    "    \n",
    "    c. kota tinggal (string)"
   ]
  },
  {
   "cell_type": "code",
   "execution_count": 9,
   "metadata": {},
   "outputs": [],
   "source": [
    "firstname = \"Gilang\"\n",
    "age = 30\n",
    "city = \"Bekasi\""
   ]
  },
  {
   "cell_type": "markdown",
   "metadata": {},
   "source": [
    "2. Tampilkan semua variabel pada soal no 1 menjadi sebuah kalimat dengan menggunakan metode print()"
   ]
  },
  {
   "cell_type": "code",
   "execution_count": 10,
   "metadata": {},
   "outputs": [
    {
     "name": "stdout",
     "output_type": "stream",
     "text": [
      "Nama saya Gilang, berusia 30 tahun dan tinggal di Bekasi.\n"
     ]
    }
   ],
   "source": [
    "print('Nama saya ' + firstname + ', berusia ' + str(age) + ' tahun dan tinggal di ' + city + \".\")\n",
    "\n"
   ]
  },
  {
   "cell_type": "markdown",
   "metadata": {},
   "source": [
    "3. Dengan menggunakan salah satu string method, ubah kata mangga pada variabel kalimat menjadi apel dan masukkan pada variabel kalimat_2 lalu print variabel kalimat_2"
   ]
  },
  {
   "cell_type": "code",
   "execution_count": 13,
   "metadata": {},
   "outputs": [
    {
     "name": "stdout",
     "output_type": "stream",
     "text": [
      "Budi menyukai buah apel\n"
     ]
    }
   ],
   "source": [
    "#kerjakan soal no 3 pada bagian sel ini\n",
    "kalimat = 'Budi menyukai buah mangga'\n",
    "kalimat_2 = kalimat.replace(\"mangga\", \"apel\")\n",
    "print(kalimat_2)"
   ]
  },
  {
   "cell_type": "code",
   "execution_count": null,
   "metadata": {},
   "outputs": [],
   "source": []
  }
 ],
 "metadata": {
  "interpreter": {
   "hash": "225628152cfd3822a099e1039f9835e5f20317439fd775a43075029e54e38f55"
  },
  "kernelspec": {
   "display_name": "Python 3.10.0 64-bit",
   "name": "python3"
  },
  "language_info": {
   "codemirror_mode": {
    "name": "ipython",
    "version": 3
   },
   "file_extension": ".py",
   "mimetype": "text/x-python",
   "name": "python",
   "nbconvert_exporter": "python",
   "pygments_lexer": "ipython3",
   "version": "3.10.0"
  }
 },
 "nbformat": 4,
 "nbformat_minor": 2
}

{
  "nbformat": 4,
  "nbformat_minor": 0,
  "metadata": {
    "interpreter": {
      "hash": "b02d93efda564da1915d42b0288c26f05ac833e7645184a564f32e638d57cc3e"
    },
    "kernelspec": {
      "display_name": "Python 3.8.6 64-bit ('public_op': virtualenv)",
      "name": "python3"
    },
    "language_info": {
      "codemirror_mode": {
        "name": "ipython",
        "version": 3
      },
      "file_extension": ".py",
      "mimetype": "text/x-python",
      "name": "python",
      "nbconvert_exporter": "python",
      "pygments_lexer": "ipython3",
      "version": "3.8.6"
    },
    "orig_nbformat": 4,
    "colab": {
      "name": "Tugas_5_gilang.syahya.ipynb",
      "provenance": [],
      "collapsed_sections": [],
      "toc_visible": true
    }
  },
  "cells": [
    {
      "cell_type": "markdown",
      "metadata": {
        "id": "BtPKyd5cGsOi"
      },
      "source": [
        "1. Buatlah sebuah class dengan nama class = Kendaraan,  tanpa variabel, attribute dan methods"
      ]
    },
    {
      "cell_type": "code",
      "metadata": {
        "id": "0yph6WNfGsOl"
      },
      "source": [
        "#kerjakan soal 1 pada sel ini\n",
        "class Kendaraan:\n",
        "    pass"
      ],
      "execution_count": 37,
      "outputs": []
    },
    {
      "cell_type": "markdown",
      "metadata": {
        "id": "sgqFs-eZGsOo"
      },
      "source": [
        "2. Buatlah sebuah class dengan nama class = Kendaraan, yang memiliki atribut instance kecepatan_maksimum dan jarak_tempuh"
      ]
    },
    {
      "cell_type": "code",
      "metadata": {
        "colab": {
          "base_uri": "https://localhost:8080/"
        },
        "id": "xEJxWOAvGsOp",
        "outputId": "300893aa-e43b-4f16-859b-cdf8d172531f"
      },
      "source": [
        "#kerjakan soal no 2 pada sel ini\n",
        "\n",
        "#contoh pemanggilan\n",
        "#model_1 = Kendaraan(240,10)\n",
        "#print(model_1.kecepatan_maksimum, model_1.jarak_tempuh)\n",
        "\n",
        "#output\n",
        "#240 10\n",
        "\n",
        "class kendaraan:\n",
        "  def __init__(self, kecepatan_maximum, jarak_tempuh):\n",
        "\n",
        "    self.kecepatan_maximum = kecepatan_maximum\n",
        "    self.jarak_tempuh = jarak_tempuh\n",
        "\n",
        "model_1= kendaraan(240,10)\n",
        "\n",
        "print(model_1.kecepatan_maximum, model_1.jarak_tempuh)"
      ],
      "execution_count": 38,
      "outputs": [
        {
          "output_type": "stream",
          "name": "stdout",
          "text": [
            "240 10\n"
          ]
        }
      ]
    },
    {
      "cell_type": "markdown",
      "metadata": {
        "id": "tuuEpnrHGsOp"
      },
      "source": [
        "3. Buatlah sebuah class dengan nama Tesla yang bersifat inheritance/turunan dari class mobil"
      ]
    },
    {
      "cell_type": "code",
      "metadata": {
        "id": "2onpCJF5GsOq",
        "colab": {
          "base_uri": "https://localhost:8080/"
        },
        "outputId": "b651eec0-35d1-4f9a-f327-860a23f9a6fb"
      },
      "source": [
        "#kerjakan soal no 3 pada sel ini\n",
        "\n",
        "class Mobil:\n",
        "  def print_nama(self):\n",
        "    print (self.nama)\n",
        "  \n",
        "  def print_warna(self):\n",
        "    print(self.warna)\n",
        "\n",
        "  def print_merk(self):\n",
        "    print(self.bahan_bakar)\n",
        "\n",
        "class Tesla(Mobil):\n",
        "  def __init__(self, nama, warna, bahan_bakar):\n",
        "    self.nama = nama\n",
        "    self.warna = warna\n",
        "    self.bahan_bakar = bahan_bakar\n",
        "\n",
        "model_x = Tesla(\"model x\",\"perak\",\"listrik\")\n",
        "print(f\"Nama Mobil: {model_x.nama}, Warna: {model_x.warna}, Bahan Bakar: {model_x.bahan_bakar}\")\n",
        "\n",
        "# contoh pemanggilan\n",
        "# model_x = Tesla(\"model x\",\"perak\",\"listrik\")\n",
        "# print(f\"Nama Mobil: {model_x.nama}, Warna: {model_x.warna}, Bahan Bakar: {model_x.bahan_bakar}\")\n",
        "\n",
        "# output\n",
        "# Nama Mobil: model x, Warna: perak, Bahan Bakar: listrik\n"
      ],
      "execution_count": 39,
      "outputs": [
        {
          "output_type": "stream",
          "name": "stdout",
          "text": [
            "Nama Mobil: model x, Warna: perak, Bahan Bakar: listrik\n"
          ]
        }
      ]
    },
    {
      "cell_type": "markdown",
      "metadata": {
        "id": "DxofsksbGsOs"
      },
      "source": [
        "4. Buatlah sebuah class dengan ketentuan:\n",
        "    - memiliki nama Aritmatika\n",
        "    - instance atribut/input untuk class adalah dua integer\n",
        "    - memiliki metode yang bernama add yang menampilkan hasil penjumlahan instance atribut/inputan class"
      ]
    },
    {
      "cell_type": "code",
      "metadata": {
        "id": "hS64VUnRGsOt",
        "colab": {
          "base_uri": "https://localhost:8080/"
        },
        "outputId": "0f0326b0-026c-4b64-a75f-85d28da1e2fe"
      },
      "source": [
        "#kerjakan soal no 4 pada sel ini\n",
        "\n",
        "# contoh pemanggilan\n",
        "# model_hitung = Aritmatika(10,4)\n",
        "# model_hitung.add()\n",
        "\n",
        "# output\n",
        "# 14\n",
        "\n",
        "class Aritmatika:\n",
        "    def __init__(self, angka1, angka2):\n",
        "        self.angka1 = angka1\n",
        "        self.angka2 = angka2    \n",
        "    def add(self):\n",
        "        model_hitung = self.angka1 + self.angka2\n",
        "        return print(model_hitung)\n",
        "\n",
        "model_hitung = Aritmatika(10,4)\n",
        "model_hitung.add()"
      ],
      "execution_count": 40,
      "outputs": [
        {
          "output_type": "stream",
          "name": "stdout",
          "text": [
            "14\n"
          ]
        }
      ]
    }
  ]
}
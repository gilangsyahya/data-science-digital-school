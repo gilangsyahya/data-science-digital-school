{
  "nbformat": 4,
  "nbformat_minor": 0,
  "metadata": {
    "kernelspec": {
      "display_name": "Python 3.8.6 64-bit ('public_op')",
      "metadata": {
        "interpreter": {
          "hash": "66914c7a76df292d6a0bba50fafa355dedd93b53ceb1028df6ae26adc2894cfa"
        }
      },
      "name": "python3"
    },
    "language_info": {
      "codemirror_mode": {
        "name": "ipython",
        "version": 3
      },
      "file_extension": ".py",
      "mimetype": "text/x-python",
      "name": "python",
      "nbconvert_exporter": "python",
      "pygments_lexer": "ipython3",
      "version": "3.8.6-final"
    },
    "orig_nbformat": 2,
    "colab": {
      "name": "Tugas_4_gilang.syahya.ipynb",
      "provenance": [],
      "collapsed_sections": []
    }
  },
  "cells": [
    {
      "cell_type": "markdown",
      "metadata": {
        "id": "LoOTSGtuv9Cp"
      },
      "source": [
        "1. Buatlah sebuah fungsi di python yang memerlukan dua argument, nama dan usia. Lalu menampilkan dua argument tersebut saat fungsi dipanggil"
      ]
    },
    {
      "cell_type": "code",
      "metadata": {
        "colab": {
          "base_uri": "https://localhost:8080/"
        },
        "id": "YTiHgP-zv9Cv",
        "outputId": "f9cce394-683a-4ab9-9a7f-5b076a30fb71"
      },
      "source": [
        "#kerjakan soal no. 1 pada sel ini\n",
        "\n",
        "#contoh pemanggilan fungsi\n",
        "#func1(\"Rina\", 20)\n",
        "\n",
        "#output\n",
        "#Rina 20\n",
        "\n",
        "def func1(nama, age):\n",
        "  print(nama, age)\n",
        "\n",
        "func1('Rina', 20)\n"
      ],
      "execution_count": null,
      "outputs": [
        {
          "output_type": "stream",
          "name": "stdout",
          "text": [
            "Rina 20\n"
          ]
        }
      ]
    },
    {
      "cell_type": "markdown",
      "metadata": {
        "id": "Z91Gyz3_v9Cy"
      },
      "source": [
        "2. Buatlah fungsi yang bisa melakukan print semua parameter/argument yang menjadi inputan. Fungsi tersebut harus bisa menerima berapapun argument yang dimasukkan tanpa error. "
      ]
    },
    {
      "cell_type": "code",
      "metadata": {
        "id": "vMow67q3v9Cy",
        "colab": {
          "base_uri": "https://localhost:8080/"
        },
        "outputId": "1fa61add-1b4f-4a3c-a6dd-351d6456265e"
      },
      "source": [
        "#kerjakan soal no. 2 pada sel ini\n",
        "\n",
        "#contoh pemanggilan fungsi\n",
        "#func2(1,2,3)\n",
        "\n",
        "'''\n",
        "output\n",
        "1\n",
        "2\n",
        "3\n",
        "'''\n",
        "def func2 (*num):\n",
        "  for item in num:\n",
        "    print(item)\n",
        "\n",
        "func2(1,2,3)\n",
        "\n",
        "#contoh pemanggilan fungsi\n",
        "#func1(1,2,3,4,5,6)\n",
        "\n",
        "'''\n",
        "output\n",
        "1\n",
        "2\n",
        "3\n",
        "4\n",
        "5\n",
        "6\n",
        "'''\n",
        "def func1 (*num):\n",
        "  for item in num:\n",
        "    print(item)\n",
        "\n",
        "func1(1,2,3,4,5,6)\n"
      ],
      "execution_count": null,
      "outputs": [
        {
          "output_type": "stream",
          "name": "stdout",
          "text": [
            "1\n",
            "2\n",
            "3\n",
            "1\n",
            "2\n",
            "3\n",
            "4\n",
            "5\n",
            "6\n"
          ]
        }
      ]
    },
    {
      "cell_type": "markdown",
      "metadata": {
        "id": "V9_Mz-W7v9Cz"
      },
      "source": [
        "3. Buatlah sebuah fungsi yang dapat mencari jumlah total dari anggota pada list. Syarat pengerjaan:\n",
        "     - tanpa menggunakan loop/iterasi\n",
        "     - manfaatkan fungsi lambda\n",
        "\n",
        "list_nilai = [23,17,5,8,25,15]"
      ]
    },
    {
      "cell_type": "code",
      "metadata": {
        "id": "M6YImbrav9Cz",
        "colab": {
          "base_uri": "https://localhost:8080/"
        },
        "outputId": "8b31be5f-414a-429a-b4df-777bbec43419"
      },
      "source": [
        "#kerjakan soal no. 3 pada sel ini\n",
        "\n",
        "#contoh pemanggilan fungsi\n",
        "#func3(list_nilai)\n",
        "\n",
        "#output\n",
        "#93\n",
        "\n",
        "from functools import reduce\n",
        "list_nilai = [23,17,5,8,25,15]\n",
        "\n",
        "def func_sum(list_data):\n",
        "    hasil = reduce(lambda a,b: a+b,list_data)\n",
        "    print(hasil)\n",
        "\n",
        "func_sum(list_nilai)"
      ],
      "execution_count": 2,
      "outputs": [
        {
          "output_type": "stream",
          "name": "stdout",
          "text": [
            "93\n"
          ]
        }
      ]
    },
    {
      "cell_type": "markdown",
      "metadata": {
        "id": "fParFtUSv9C0"
      },
      "source": [
        "4. Buatlah sebuah fungsi yang dapat mencari nilai yang lebih besar/sama dengan 80 dari anggota pada list. Syarat pengerjaan:\n",
        "     - tanpa menggunakan loop/iterasi\n",
        "     - manfaatkan fungsi lambda\n",
        "     - ouput merupakan list\n",
        "\n",
        "nilai_siswa = [67,89,80,67,25,92]"
      ]
    },
    {
      "cell_type": "code",
      "metadata": {
        "id": "_Fuzp7vwv9C0",
        "colab": {
          "base_uri": "https://localhost:8080/"
        },
        "outputId": "a004f7c8-ac70-4205-cf55-08174a6602c8"
      },
      "source": [
        "#kerjakan soal no. 4 pada sel ini\n",
        "\n",
        "#contoh pemanggilan fungsi\n",
        "#func4(nilai_siswa)\n",
        "\n",
        "#output\n",
        "#[89,80,92]\n",
        "\n",
        "nilai_siswa = [67,89,80,67,25,92]\n",
        "\n",
        "def func4(*data):\n",
        "    great80 = list(filter(lambda x: x >= 80, nilai_siswa))\n",
        "    print(great80)\n",
        "\n",
        "func4(nilai_siswa)"
      ],
      "execution_count": null,
      "outputs": [
        {
          "output_type": "stream",
          "name": "stdout",
          "text": [
            "[89, 80, 92]\n"
          ]
        }
      ]
    },
    {
      "cell_type": "markdown",
      "metadata": {
        "id": "p22fxzuUv9C0"
      },
      "source": [
        "5. Buatlah sebuah fungsi untuk mengecek apakah suatu string palindrom atau bukan\n",
        "\n",
        "kata_1 = \"makam\"\n",
        "kata_2 = \"makan\""
      ]
    },
    {
      "cell_type": "code",
      "metadata": {
        "id": "jtWfFo-Xv9C1",
        "colab": {
          "base_uri": "https://localhost:8080/"
        },
        "outputId": "507d860b-4d42-4a93-8c45-501f6818ca63"
      },
      "source": [
        "#kerjakan soal no.5 pada sel ini\n",
        "\n",
        "#contoh pemanggilan fungsi\n",
        "#test_palindrom(kata_1)\n",
        "#test_palindrom(kata_2)\n",
        "\n",
        "#output\n",
        "#makam merupakan palindrom\n",
        "#makan bukan merupakan palindrom\n",
        "\n",
        "kata_1 = \"makam\" \n",
        "kata_2 = \"makan\"\n",
        "\n",
        "def test_palindrom(kata):\n",
        "    if kata == kata[::-1]:\n",
        "      print(\"{} merupakan palindrom\".format(kata))\n",
        "    else:\n",
        "      print(\"{} bukan merupakan palindrom\".format(kata))\n",
        "\n",
        "\n",
        "test_palindrom(kata_1)\n",
        "test_palindrom(kata_2)\n"
      ],
      "execution_count": null,
      "outputs": [
        {
          "output_type": "stream",
          "name": "stdout",
          "text": [
            "makam merupakan palindrom\n",
            "makan bukan merupakan palindrom\n"
          ]
        }
      ]
    }
  ]
}